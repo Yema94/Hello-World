{
  "nbformat": 4,
  "nbformat_minor": 0,
  "metadata": {
    "colab": {
      "name": "btw_gh_colab.ipynb",
      "provenance": [],
      "collapsed_sections": [],
      "authorship_tag": "ABX9TyOTm23lhkt5JmW3vY/D3ykt",
      "include_colab_link": true
    },
    "kernelspec": {
      "name": "python3",
      "display_name": "Python 3"
    },
    "language_info": {
      "name": "python"
    }
  },
  "cells": [
    {
      "cell_type": "markdown",
      "metadata": {
        "id": "view-in-github",
        "colab_type": "text"
      },
      "source": [
        "<a href=\"https://colab.research.google.com/github/Yema94/Hello-World/blob/main/btw_gh_colab.ipynb\" target=\"_parent\"><img src=\"https://colab.research.google.com/assets/colab-badge.svg\" alt=\"Open In Colab\"/></a>"
      ]
    },
    {
      "cell_type": "markdown",
      "source": [
        "#Colab Docker environment "
      ],
      "metadata": {
        "id": "KtqO4NjGvD8y"
      }
    },
    {
      "cell_type": "markdown",
      "source": [
        "This is the dummy notebook to understand the colabs connectivity with the github for the version control of the source codes. \n",
        "\n",
        "1. How to clone the repository from github to colab\n",
        "2. How to commit the changes from colab to github repo\n",
        "3. How to update all the project files from colab to github repo."
      ],
      "metadata": {
        "id": "ix6JJfcM4ETh"
      }
    },
    {
      "cell_type": "markdown",
      "source": [
        "Following is the command to clone a repository from github to colab in colab docker environment"
      ],
      "metadata": {
        "id": "8nl_7tNlwkVf"
      }
    },
    {
      "cell_type": "code",
      "source": [
        "!git clone https://github.com/Yema94/Learn-Datetime-Module"
      ],
      "metadata": {
        "id": "TkEy6crNvQne"
      },
      "execution_count": null,
      "outputs": []
    },
    {
      "cell_type": "markdown",
      "source": [
        "The directory structure of colab is in such a way that, when you enter colab for the first time, you will be in `content/` folder. \n",
        "In the above command, the github repository is being cloned as a subfolder into this folder. \n",
        "\n",
        "To access the files or subfolders in our repository, we need to get into our repository folder first. \n",
        "\n",
        "And Following is the command to get into the desired repository folder"
      ],
      "metadata": {
        "id": "qOLqDJP-6H95"
      }
    },
    {
      "cell_type": "code",
      "source": [
        "cd Learn-Datetime-Module"
      ],
      "metadata": {
        "id": "CdMJREhI4Xks"
      },
      "execution_count": null,
      "outputs": []
    },
    {
      "cell_type": "code",
      "source": [
        "!python dtdemo.py"
      ],
      "metadata": {
        "id": "1ew22W9a4s0d"
      },
      "execution_count": null,
      "outputs": []
    },
    {
      "cell_type": "markdown",
      "source": [
        ""
      ],
      "metadata": {
        "id": "TEg4F00K92y-"
      }
    },
    {
      "cell_type": "markdown",
      "source": [
        "# Google drive environment"
      ],
      "metadata": {
        "id": "tGccFHDN32z0"
      }
    },
    {
      "cell_type": "markdown",
      "source": [
        "Following is the procedure to clone a repository from github to colab in google drive enviroment"
      ],
      "metadata": {
        "id": "7JDzrZkj19pl"
      }
    },
    {
      "cell_type": "markdown",
      "source": [
        "Mount the colab with google drive\n",
        "1. using gui environment\n",
        "  - on the left hand side of colab window in the files-explorer pane, click on google drive icon and give access to your google drive. \n",
        "  - go to the content/MyDrive/Colab Notebooks \n",
        "\n",
        "2. Using the command line interface commands\n",
        "  - "
      ],
      "metadata": {
        "id": "_KdJ4D852WF3"
      }
    },
    {
      "cell_type": "code",
      "source": [
        ""
      ],
      "metadata": {
        "colab": {
          "base_uri": "https://localhost:8080/"
        },
        "id": "0CZjXcw605of",
        "outputId": "bf25d804-b4a7-4bff-f7c9-f9ebfa6d13b0"
      },
      "execution_count": null,
      "outputs": [
        {
          "output_type": "stream",
          "name": "stdout",
          "text": [
            "/content/drive/MyDrive/Colab Notebooks\n"
          ]
        }
      ]
    },
    {
      "cell_type": "markdown",
      "source": [
        ""
      ],
      "metadata": {
        "id": "_5SIGqX53oHp"
      }
    },
    {
      "cell_type": "code",
      "source": [
        ""
      ],
      "metadata": {
        "colab": {
          "base_uri": "https://localhost:8080/"
        },
        "id": "oWLFso761AmU",
        "outputId": "1a7322c6-a1d4-4985-e610-46e2511660e2"
      },
      "execution_count": null,
      "outputs": [
        {
          "output_type": "stream",
          "name": "stdout",
          "text": [
            "'Copy of DencityMapMall.ipynb'   nbforgithub.ipynb   test_snippets.ipynb\n"
          ]
        }
      ]
    },
    {
      "cell_type": "code",
      "source": [
        ""
      ],
      "metadata": {
        "colab": {
          "base_uri": "https://localhost:8080/"
        },
        "id": "pjtxsc251BgA",
        "outputId": "c49c2e64-c8fd-4947-c897-7f412b2d1724"
      },
      "execution_count": null,
      "outputs": [
        {
          "output_type": "stream",
          "name": "stdout",
          "text": [
            "Cloning into 'Learn-Datetime-Module'...\n",
            "remote: Enumerating objects: 47, done.\u001b[K\n",
            "remote: Counting objects: 100% (47/47), done.\u001b[K\n",
            "remote: Compressing objects: 100% (36/36), done.\u001b[K\n",
            "remote: Total 47 (delta 19), reused 26 (delta 8), pack-reused 0\u001b[K\n",
            "Unpacking objects: 100% (47/47), done.\n"
          ]
        }
      ]
    },
    {
      "cell_type": "code",
      "source": [
        ""
      ],
      "metadata": {
        "id": "0vG9CI_Z1Iog"
      },
      "execution_count": null,
      "outputs": []
    }
  ]
}